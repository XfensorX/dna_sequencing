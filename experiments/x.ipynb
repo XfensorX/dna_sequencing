{
 "cells": [
  {
   "cell_type": "markdown",
   "metadata": {},
   "source": [
    "## Approach 1:\n",
    "\n",
    "NN: [5000, ... , 100]\n",
    "\n",
    "\n",
    "\n",
    "## Approach 2:\n",
    "AE: [5000, ..X.., 10, ... 5000]\n",
    "-> Enc: [5000, ..., 10]\n",
    "-> Dec: [10, ..., 5000]\n",
    "\n",
    "NN: [10, ..., 100]\n",
    "\n",
    "Model: Enc + NN\n",
    "\n",
    "\n",
    "## Approach 3:\n",
    "NN with Decoder:  [5000, ..X.. , 10, ..., 100]\n",
    "\n",
    "Model: NN\n",
    "\n",
    "\n",
    "\n",
    "\n",
    "\n",
    "\n"
   ]
  },
  {
   "cell_type": "code",
   "execution_count": null,
   "metadata": {
    "vscode": {
     "languageId": "plaintext"
    }
   },
   "outputs": [],
   "source": []
  }
 ],
 "metadata": {
  "language_info": {
   "name": "python"
  }
 },
 "nbformat": 4,
 "nbformat_minor": 2
}
