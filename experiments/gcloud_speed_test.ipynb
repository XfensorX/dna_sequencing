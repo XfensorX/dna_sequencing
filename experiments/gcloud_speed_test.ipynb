{
 "cells": [
  {
   "cell_type": "code",
   "execution_count": 99,
   "metadata": {},
   "outputs": [],
   "source": [
    "import sys\n",
    "import os\n",
    "from tqdm.notebook import tqdm\n",
    "\n",
    "sys.path.append(\"../\")\n",
    "\n",
    "import torch\n",
    "import anndata as nd\n",
    "from data.original import pertdata as pt\n",
    "import pandas as pd\n",
    "import time\n",
    "from contextlib import contextmanager\n",
    "\n",
    "\n",
    "def evaluate(model, objective, data_loader, with_y = True):\n",
    "    model.eval()\n",
    "    total_loss: float = 0.0\n",
    "    total_samples: float = 0.0\n",
    "    with torch.no_grad():\n",
    "        if with_y:\n",
    "            for x, y in data_loader:\n",
    "                out = model(x)\n",
    "                loss = objective(out, y)\n",
    "                total_loss += loss.item()\n",
    "                total_samples += len(x)\n",
    "        else:\n",
    "            for x in data_loader:\n",
    "                x = x[0]\n",
    "                out = model(x)\n",
    "                loss = objective(out, x)\n",
    "                total_loss += loss.item()\n",
    "                total_samples += len(x)\n",
    "\n",
    "    return total_loss / total_samples\n",
    "\n",
    "\n",
    "@contextmanager\n",
    "def tracking(model, objective, validation_set, with_y=True):\n",
    "    start_time = time.perf_counter()\n",
    "    yield\n",
    "    end_time = time.perf_counter()\n",
    "    elapsed_time = end_time - start_time\n",
    "    loss = evaluate(model, objective, validation_set, with_y=with_y)\n",
    "    print(f\"Trained : {elapsed_time} seconds\")\n",
    "    print(f\"Current Loss: {loss}\")\n",
    "    print(f\"Current Accuracy: {evaluate(model, lambda y_hat, y: torch.sum(y_hat == y), validation_set, with_y=with_y)}\")"
   ]
  },
  {
   "cell_type": "code",
   "execution_count": 92,
   "metadata": {},
   "outputs": [],
   "source": [
    "def get_train_data():\n",
    "    norman = pt.PertData.from_repo(name=\"norman\", save_dir=\"../data/original\")\n",
    "    data = norman.adata\n",
    "    train_slice = slice(0, int(0.8*len(data.X.toarray())))\n",
    "\n",
    "    X_train = torch.from_numpy(data.X.toarray())[train_slice]\n",
    "    y_train =  torch.from_numpy(pd.get_dummies(pt.generate_fixed_perturbation_labels(data.obs[\"condition\"])).to_numpy())[train_slice]\n",
    "    return X_train, y_train.to(torch.float32)\n",
    "\n",
    "\n",
    "def get_val_data():\n",
    "    norman = pt.PertData.from_repo(name=\"norman\", save_dir=\"../data/original\")\n",
    "    data = norman.adata\n",
    "    data_slice = slice(int(0.8*len(data.X.toarray())), )\n",
    "\n",
    "    X_train = torch.from_numpy(data.X.toarray())[data_slice]\n",
    "    y_train =  torch.from_numpy(pd.get_dummies(pt.generate_fixed_perturbation_labels(data.obs[\"condition\"])).to_numpy())[data_slice]\n",
    "    return X_train, y_train.to(torch.float32)"
   ]
  },
  {
   "cell_type": "code",
   "execution_count": 101,
   "metadata": {},
   "outputs": [],
   "source": [
    "class AE(torch.nn.Module):\n",
    "    def __init__(self):\n",
    "        super().__init__()\n",
    "\n",
    "        self.encoder = torch.nn.Sequential(\n",
    "            torch.nn.Linear(5045, 5045),\n",
    "            torch.nn.LeakyReLU(0.1),\n",
    "            torch.nn.Linear(5045, 5045),\n",
    "            torch.nn.LeakyReLU(0.1),\n",
    "            torch.nn.Linear(5045, 5045),\n",
    "            torch.nn.LeakyReLU(0.1),\n",
    "            torch.nn.Linear(5045, 5045),\n",
    "            torch.nn.LeakyReLU(0.1),\n",
    "            torch.nn.Linear(5045, 1000),\n",
    "            torch.nn.LeakyReLU(0.1),\n",
    "            torch.nn.Linear(1000, 300),\n",
    "            torch.nn.LeakyReLU(0.1),\n",
    "            torch.nn.Linear(300, 30),\n",
    "        )\n",
    "\n",
    "        self.decoder = torch.nn.Sequential(\n",
    "            torch.nn.Linear(30, 300),\n",
    "            torch.nn.LeakyReLU(0.1),\n",
    "            torch.nn.Linear(300, 1000),\n",
    "            torch.nn.LeakyReLU(0.1),\n",
    "            torch.nn.Linear(1000, 5045),\n",
    "            torch.nn.ReLU(),\n",
    "        )\n",
    "\n",
    "\n",
    "    def forward(self, x):\n",
    "        z = self.encoder(x)\n",
    "        y = self.decoder(z)\n",
    "        return y\n",
    "\n",
    "\n",
    "class Classifier(torch.nn.Module):\n",
    "    def __init__(self):\n",
    "        super().__init__()\n",
    "        self.layers = torch.nn.Sequential(\n",
    "            torch.nn.Linear(5045, 1000),\n",
    "            torch.nn.LeakyReLU(0.1),\n",
    "            torch.nn.Linear(1000, 1000),\n",
    "            torch.nn.LeakyReLU(0.1),\n",
    "            torch.nn.Linear(1000, 1000),\n",
    "            torch.nn.LeakyReLU(0.1),\n",
    "            torch.nn.Linear(1000, 1000),\n",
    "            torch.nn.LeakyReLU(0.1),\n",
    "            torch.nn.Linear(1000, 1000),\n",
    "            torch.nn.LeakyReLU(0.1),\n",
    "            torch.nn.Linear(1000, 1000),\n",
    "            torch.nn.LeakyReLU(0.1),\n",
    "            torch.nn.Linear(1000, 1000),\n",
    "            torch.nn.LeakyReLU(0.1),\n",
    "            torch.nn.Linear(1000, 1000),\n",
    "            torch.nn.LeakyReLU(0.1),\n",
    "            torch.nn.Linear(1000, 1000),\n",
    "            torch.nn.LeakyReLU(0.1),\n",
    "            torch.nn.Linear(1000, 237)\n",
    "        )\n",
    "\n",
    "\n",
    "    def forward(self, x):\n",
    "        return self.layers(x)"
   ]
  },
  {
   "cell_type": "code",
   "execution_count": 79,
   "metadata": {},
   "outputs": [
    {
     "name": "stdout",
     "output_type": "stream",
     "text": [
      "Dataset directory already exists: ../data/original/norman\n",
      "Loading dataset: norman\n"
     ]
    },
    {
     "data": {
      "text/plain": [
       "torch.float32"
      ]
     },
     "execution_count": 79,
     "metadata": {},
     "output_type": "execute_result"
    }
   ],
   "source": [
    "get_train_data()[1].dtype"
   ]
  },
  {
   "cell_type": "code",
   "execution_count": 80,
   "metadata": {},
   "outputs": [],
   "source": [
    "EPOCHS = 3\n",
    "BATCH_SIZE = 128"
   ]
  },
  {
   "cell_type": "code",
   "execution_count": 81,
   "metadata": {},
   "outputs": [
    {
     "name": "stdout",
     "output_type": "stream",
     "text": [
      "Dataset directory already exists: ../data/original/norman\n",
      "Loading dataset: norman\n",
      "Dataset directory already exists: ../data/original/norman\n",
      "Loading dataset: norman\n",
      "Epoch 0:\n"
     ]
    },
    {
     "data": {
      "application/vnd.jupyter.widget-view+json": {
       "model_id": "221323f1a9be4209b894836ea982bd64",
       "version_major": 2,
       "version_minor": 0
      },
      "text/plain": [
       "  0%|          | 0/571 [00:00<?, ?it/s]"
      ]
     },
     "metadata": {},
     "output_type": "display_data"
    },
    {
     "name": "stdout",
     "output_type": "stream",
     "text": [
      "Trained : 14.622327082994161 seconds\n",
      "Current Loss: 0.04219052391769554\n",
      "Current Accuracy: 0.0\n",
      "Epoch 1:\n"
     ]
    },
    {
     "data": {
      "application/vnd.jupyter.widget-view+json": {
       "model_id": "21c825593ce843e7a381049d6c17c9b9",
       "version_major": 2,
       "version_minor": 0
      },
      "text/plain": [
       "  0%|          | 0/571 [00:00<?, ?it/s]"
      ]
     },
     "metadata": {},
     "output_type": "display_data"
    },
    {
     "name": "stdout",
     "output_type": "stream",
     "text": [
      "Trained : 13.834802249999484 seconds\n",
      "Current Loss: 0.04200136187724734\n",
      "Current Accuracy: 0.0\n",
      "Epoch 2:\n"
     ]
    },
    {
     "data": {
      "application/vnd.jupyter.widget-view+json": {
       "model_id": "bea660bcd76d41b8a3fa331ba4f335fc",
       "version_major": 2,
       "version_minor": 0
      },
      "text/plain": [
       "  0%|          | 0/571 [00:00<?, ?it/s]"
      ]
     },
     "metadata": {},
     "output_type": "display_data"
    },
    {
     "name": "stdout",
     "output_type": "stream",
     "text": [
      "Trained : 13.799005041000783 seconds\n",
      "Current Loss: 0.042162621317317066\n",
      "Current Accuracy: 0.0\n"
     ]
    }
   ],
   "source": [
    "train_set_superv = torch.utils.data.TensorDataset(*get_train_data())\n",
    "val_set_superv = torch.utils.data.TensorDataset(*get_val_data())\n",
    "train_set_superv = torch.utils.data.DataLoader(train_set_superv, BATCH_SIZE, shuffle=True)\n",
    "val_set_superv= torch.utils.data.DataLoader(val_set_superv, BATCH_SIZE, shuffle=False)\n",
    "\n",
    "model = Classifier()\n",
    "optimizer = torch.optim.AdamW(model.parameters(), lr=0.00001)\n",
    "objective = torch.nn.CrossEntropyLoss()\n",
    "\n",
    "for i in range(EPOCHS):\n",
    "    print(f\"Epoch {i}:\")\n",
    "    with tracking(model, objective, val_set_superv):\n",
    "        model.train()\n",
    "        for x, y in tqdm(train_set_superv):\n",
    "            out = model(x)\n",
    "            loss = objective(out, y)\n",
    "            loss.backward()\n",
    "            optimizer.step()\n",
    "\n",
    "del train_set_superv\n",
    "del val_set_superv"
   ]
  },
  {
   "cell_type": "code",
   "execution_count": 102,
   "metadata": {},
   "outputs": [
    {
     "name": "stdout",
     "output_type": "stream",
     "text": [
      "Dataset directory already exists: ../data/original/norman\n",
      "Loading dataset: norman\n",
      "Dataset directory already exists: ../data/original/norman\n",
      "Loading dataset: norman\n",
      "Epoch 0:\n"
     ]
    },
    {
     "data": {
      "application/vnd.jupyter.widget-view+json": {
       "model_id": "9c4c89adf5034cb1bb593972057afafc",
       "version_major": 2,
       "version_minor": 0
      },
      "text/plain": [
       "  0%|          | 0/29 [00:00<?, ?it/s]"
      ]
     },
     "metadata": {},
     "output_type": "display_data"
    },
    {
     "name": "stdout",
     "output_type": "stream",
     "text": [
      "Trained : 43.03427679199376 seconds\n",
      "Current Loss: 8.323808554938785e-05\n",
      "Current Accuracy: 2419.055657584562\n",
      "Epoch 1:\n"
     ]
    },
    {
     "data": {
      "application/vnd.jupyter.widget-view+json": {
       "model_id": "69904fcaaef84c2c9bb62bebc7106671",
       "version_major": 2,
       "version_minor": 0
      },
      "text/plain": [
       "  0%|          | 0/29 [00:00<?, ?it/s]"
      ]
     },
     "metadata": {},
     "output_type": "display_data"
    },
    {
     "name": "stdout",
     "output_type": "stream",
     "text": [
      "Trained : 42.83595691599476 seconds\n",
      "Current Loss: 7.741444078749663e-05\n",
      "Current Accuracy: 2736.025999122855\n",
      "Epoch 2:\n"
     ]
    },
    {
     "data": {
      "application/vnd.jupyter.widget-view+json": {
       "model_id": "49a12a3951fe45ad871d0f32e3e935ac",
       "version_major": 2,
       "version_minor": 0
      },
      "text/plain": [
       "  0%|          | 0/29 [00:00<?, ?it/s]"
      ]
     },
     "metadata": {},
     "output_type": "display_data"
    },
    {
     "name": "stdout",
     "output_type": "stream",
     "text": [
      "Trained : 42.91800879201037 seconds\n",
      "Current Loss: 7.83318012330323e-05\n",
      "Current Accuracy: 3410.1599144783727\n"
     ]
    }
   ],
   "source": [
    "BATCH_SIZE= 2556\n",
    "train_set_unsuperv = torch.utils.data.TensorDataset(get_train_data()[0])\n",
    "val_set_unsuperv = torch.utils.data.TensorDataset(get_val_data()[0])\n",
    "\n",
    "train_set_unsuperv = torch.utils.data.DataLoader(train_set_unsuperv, BATCH_SIZE, shuffle=True)\n",
    "val_set_unsuperv = torch.utils.data.DataLoader(val_set_unsuperv, BATCH_SIZE, shuffle=False)\n",
    "\n",
    "model = AE()\n",
    "optimizer = torch.optim.AdamW(model.parameters(), lr=0.00001)\n",
    "objective = torch.nn.MSELoss()\n",
    "\n",
    "for i in range(EPOCHS):\n",
    "    print(f\"Epoch {i}:\")\n",
    "    with tracking(model, objective, val_set_unsuperv, with_y=False):\n",
    "        model.train()\n",
    "        for x in tqdm(train_set_unsuperv):\n",
    "            x = x[0]\n",
    "            out = model(x)\n",
    "            loss = objective(out, x)\n",
    "            loss.backward()\n",
    "            optimizer.step()\n",
    "\n",
    "del train_set_unsuperv\n",
    "del val_set_unsuperv\n"
   ]
  },
  {
   "cell_type": "code",
   "execution_count": null,
   "metadata": {},
   "outputs": [],
   "source": []
  }
 ],
 "metadata": {
  "kernelspec": {
   "display_name": ".venv",
   "language": "python",
   "name": "python3"
  },
  "language_info": {
   "codemirror_mode": {
    "name": "ipython",
    "version": 3
   },
   "file_extension": ".py",
   "mimetype": "text/x-python",
   "name": "python",
   "nbconvert_exporter": "python",
   "pygments_lexer": "ipython3",
   "version": "3.10.15"
  }
 },
 "nbformat": 4,
 "nbformat_minor": 2
}
