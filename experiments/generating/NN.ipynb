{
 "cells": [
  {
   "cell_type": "code",
   "execution_count": 9,
   "metadata": {},
   "outputs": [],
   "source": [
    "import pandas as pd\n",
    "import torch\n",
    "import torch.nn as nn\n",
    "import numpy as np\n",
    "import matplotlib.pyplot as plt\n",
    "from tqdm.notebook import tqdm\n"
   ]
  },
  {
   "cell_type": "code",
   "execution_count": 10,
   "metadata": {},
   "outputs": [],
   "source": [
    "import sys\n",
    "import pickle\n",
    "from git import Repo\n",
    "\n",
    "# Get the git root directory\n",
    "repo = Repo(\".\", search_parent_directories=True)\n",
    "git_root = repo.git.rev_parse(\"--show-toplevel\")\n",
    "\n",
    "# Load data\n",
    "X_Train_pd = pickle.load(open(f\"{git_root}/data/splits/train/X_pandas.pck\", \"rb\"))\n",
    "y_Train_pd = pickle.load(open(f\"{git_root}/data/splits/train/y_pandas.pck\", \"rb\"))\n",
    "\n",
    "X_Val_pd = pickle.load(open(f\"{git_root}/data/splits/val/X_pandas.pck\", \"rb\"))\n",
    "y_Val_pd = pickle.load(open(f\"{git_root}/data/splits/val/y_pandas.pck\", \"rb\"))"
   ]
  },
  {
   "cell_type": "code",
   "execution_count": 11,
   "metadata": {},
   "outputs": [],
   "source": [
    "X_Train = torch.tensor(X_Train_pd.values, dtype=torch.float32)\n",
    "y_Train = torch.tensor(y_Train_pd.values, dtype=torch.float32)\n",
    "\n",
    "X_Val = torch.tensor(X_Val_pd.values, dtype=torch.float32)\n",
    "y_Val = torch.tensor(y_Val_pd.values, dtype=torch.float32)\n"
   ]
  },
  {
   "cell_type": "code",
   "execution_count": 79,
   "metadata": {},
   "outputs": [],
   "source": [
    "class SimpleNetwork(torch.nn.Module):\n",
    "    def __init__(self):\n",
    "        super().__init__()\n",
    "\n",
    "        self.layers = torch.nn.Sequential(\n",
    "            torch.nn.Linear(5045, 5045),\n",
    "            torch.nn.LeakyReLU(0.1),\n",
    "            torch.nn.Linear(5045, 5045),\n",
    "            torch.nn.LeakyReLU(0.1),\n",
    "            torch.nn.Linear(5045, 2000),\n",
    "            torch.nn.LeakyReLU(0.1),\n",
    "            torch.nn.Linear(2000, 1000),\n",
    "            torch.nn.LeakyReLU(0.1),\n",
    "            torch.nn.Linear(1000, 300),\n",
    "            torch.nn.LeakyReLU(0.1),\n",
    "            torch.nn.Linear(300, 105),\n",
    "        )\n",
    "\n",
    "    def forward(self, x):\n",
    "        return self.layers(x)\n"
   ]
  },
  {
   "cell_type": "code",
   "execution_count": 13,
   "metadata": {},
   "outputs": [],
   "source": [
    "class rnaDataset(torch.utils.data.Dataset):\n",
    "    def __init__(self, X, y):\n",
    "        self.X = X\n",
    "        self.y = y\n",
    "\n",
    "    def __len__(self):\n",
    "        return self.X.shape[0]\n",
    "\n",
    "    def __getitem__(self, idx):\n",
    "        return self.X[idx], self.y[idx]"
   ]
  },
  {
   "cell_type": "code",
   "execution_count": 70,
   "metadata": {},
   "outputs": [],
   "source": [
    "from torcheval.metrics.functional import multilabel_accuracy\n",
    "def evaluate(y_hat, y):\n",
    "    with torch.no_grad():\n",
    "        model.eval()\n",
    "        y_hat = torch.sigmoid(y_hat)\n",
    "        accuracy = multilabel_accuracy(y_hat, y, threshold=0.5)\n",
    "    return accuracy\n",
    "\n",
    "\n",
    "\n",
    "def training(model, optimizer, criterion, train_dataloader, val_dataloder, epochs):\n",
    "\n",
    "    for epoch in range(epochs):\n",
    "        train_acc = 0\n",
    "        val_acc = 0\n",
    "        train_loss = 0\n",
    "        val_loss = 0\n",
    "        for x,y in tqdm(train_dataloader):\n",
    "            y_pred = model(x)\n",
    "            loss = criterion(y_pred, y)\n",
    "            train_loss += loss.item()\n",
    "            loss.backward()\n",
    "            optimizer.step()\n",
    "            optimizer.zero_grad()\n",
    "            train_acc += evaluate(y_pred, y)\n",
    "        \n",
    "        with torch.no_grad():\n",
    "            model.eval()\n",
    "            for x,y in val_dataloder:\n",
    "                y_pred = model(x)\n",
    "                val_loss += criterion(y_pred, y)\n",
    "                val_acc += evaluate(y_pred, y)\n",
    "            model.train()\n",
    "        \n",
    "        print(f\"Epoch: {epoch} Train Loss: {train_loss} Train Acc: {train_acc/len(train_dataloader)} Val Loss: {val_loss} Val Acc: {val_acc/len(val_dataloder)}\")\n",
    "\n",
    "\n"
   ]
  },
  {
   "cell_type": "code",
   "execution_count": 64,
   "metadata": {},
   "outputs": [],
   "source": [
    "train_dataset = torch.utils.data.TensorDataset(X_Train, y_Train)\n",
    "val_dataset = torch.utils.data.TensorDataset(X_Val, y_Val)"
   ]
  },
  {
   "cell_type": "code",
   "execution_count": 81,
   "metadata": {},
   "outputs": [
    {
     "data": {
      "application/vnd.jupyter.widget-view+json": {
       "model_id": "3ed880e5c9e9469a8ebbb8704fd82455",
       "version_major": 2,
       "version_minor": 0
      },
      "text/plain": [
       "  0%|          | 0/143 [00:00<?, ?it/s]"
      ]
     },
     "metadata": {},
     "output_type": "display_data"
    },
    {
     "name": "stdout",
     "output_type": "stream",
     "text": [
      "Epoch: 0 Train Loss: 10.815892472863197 Train Acc: 0.08307351917028427 Val Loss: 0.9702696204185486 Val Acc: 0.10894931852817535\n"
     ]
    },
    {
     "data": {
      "application/vnd.jupyter.widget-view+json": {
       "model_id": "bfe62724a54a426787b1adc0fdecbf62",
       "version_major": 2,
       "version_minor": 0
      },
      "text/plain": [
       "  0%|          | 0/143 [00:00<?, ?it/s]"
      ]
     },
     "metadata": {},
     "output_type": "display_data"
    },
    {
     "name": "stdout",
     "output_type": "stream",
     "text": [
      "Epoch: 1 Train Loss: 7.076085776090622 Train Acc: 0.1319248229265213 Val Loss: 0.7961638569831848 Val Acc: 0.16952958703041077\n"
     ]
    },
    {
     "data": {
      "application/vnd.jupyter.widget-view+json": {
       "model_id": "8e1c09a0f92347e18f6a7e245df40512",
       "version_major": 2,
       "version_minor": 0
      },
      "text/plain": [
       "  0%|          | 0/143 [00:00<?, ?it/s]"
      ]
     },
     "metadata": {},
     "output_type": "display_data"
    },
    {
     "name": "stdout",
     "output_type": "stream",
     "text": [
      "Epoch: 2 Train Loss: 5.639114897698164 Train Acc: 0.21059195697307587 Val Loss: 0.6744710803031921 Val Acc: 0.23899072408676147\n"
     ]
    },
    {
     "data": {
      "application/vnd.jupyter.widget-view+json": {
       "model_id": "e56a87c92ce14d6a9380154b7f26392e",
       "version_major": 2,
       "version_minor": 0
      },
      "text/plain": [
       "  0%|          | 0/143 [00:00<?, ?it/s]"
      ]
     },
     "metadata": {},
     "output_type": "display_data"
    },
    {
     "name": "stdout",
     "output_type": "stream",
     "text": [
      "Epoch: 3 Train Loss: 4.7873000875115395 Train Acc: 0.2826942801475525 Val Loss: 0.612180233001709 Val Acc: 0.2872011959552765\n"
     ]
    },
    {
     "data": {
      "application/vnd.jupyter.widget-view+json": {
       "model_id": "b27a2d8fa93f4a03989200eedac940f5",
       "version_major": 2,
       "version_minor": 0
      },
      "text/plain": [
       "  0%|          | 0/143 [00:00<?, ?it/s]"
      ]
     },
     "metadata": {},
     "output_type": "display_data"
    },
    {
     "name": "stdout",
     "output_type": "stream",
     "text": [
      "Epoch: 4 Train Loss: 4.172116465866566 Train Acc: 0.34908056259155273 Val Loss: 0.5845789313316345 Val Acc: 0.3334418535232544\n"
     ]
    },
    {
     "data": {
      "application/vnd.jupyter.widget-view+json": {
       "model_id": "ea0494dad31c4d4280789be5516bda23",
       "version_major": 2,
       "version_minor": 0
      },
      "text/plain": [
       "  0%|          | 0/143 [00:00<?, ?it/s]"
      ]
     },
     "metadata": {},
     "output_type": "display_data"
    },
    {
     "name": "stdout",
     "output_type": "stream",
     "text": [
      "Epoch: 5 Train Loss: 3.688604174181819 Train Acc: 0.4065617322921753 Val Loss: 0.5496642589569092 Val Acc: 0.3807925879955292\n"
     ]
    },
    {
     "data": {
      "application/vnd.jupyter.widget-view+json": {
       "model_id": "e65a5b4ccad443668aa08b4bc3ab2b97",
       "version_major": 2,
       "version_minor": 0
      },
      "text/plain": [
       "  0%|          | 0/143 [00:00<?, ?it/s]"
      ]
     },
     "metadata": {},
     "output_type": "display_data"
    },
    {
     "name": "stdout",
     "output_type": "stream",
     "text": [
      "Epoch: 6 Train Loss: 3.336345225572586 Train Acc: 0.4572574198246002 Val Loss: 0.5532270073890686 Val Acc: 0.37556755542755127\n"
     ]
    },
    {
     "data": {
      "application/vnd.jupyter.widget-view+json": {
       "model_id": "2bbf7ef959114e2da5292027b1329120",
       "version_major": 2,
       "version_minor": 0
      },
      "text/plain": [
       "  0%|          | 0/143 [00:00<?, ?it/s]"
      ]
     },
     "metadata": {},
     "output_type": "display_data"
    },
    {
     "name": "stdout",
     "output_type": "stream",
     "text": [
      "Epoch: 7 Train Loss: 2.9877763763070107 Train Acc: 0.5043535828590393 Val Loss: 0.5648965835571289 Val Acc: 0.4026859700679779\n"
     ]
    },
    {
     "data": {
      "application/vnd.jupyter.widget-view+json": {
       "model_id": "3b50edd363324606a878c5cf7b795b3c",
       "version_major": 2,
       "version_minor": 0
      },
      "text/plain": [
       "  0%|          | 0/143 [00:00<?, ?it/s]"
      ]
     },
     "metadata": {},
     "output_type": "display_data"
    },
    {
     "name": "stdout",
     "output_type": "stream",
     "text": [
      "Epoch: 8 Train Loss: 2.6878162007778883 Train Acc: 0.5529237985610962 Val Loss: 0.5657958984375 Val Acc: 0.4145883321762085\n"
     ]
    },
    {
     "data": {
      "application/vnd.jupyter.widget-view+json": {
       "model_id": "4153e9d5e09e48babee0206828694a5f",
       "version_major": 2,
       "version_minor": 0
      },
      "text/plain": [
       "  0%|          | 0/143 [00:00<?, ?it/s]"
      ]
     },
     "metadata": {},
     "output_type": "display_data"
    },
    {
     "name": "stdout",
     "output_type": "stream",
     "text": [
      "Epoch: 9 Train Loss: 2.466330480761826 Train Acc: 0.5843350887298584 Val Loss: 0.5382486581802368 Val Acc: 0.43513786792755127\n"
     ]
    }
   ],
   "source": [
    "train_dataloader = torch.utils.data.DataLoader(train_dataset, batch_size=512, shuffle=True)\n",
    "val_dataloader = torch.utils.data.DataLoader(val_dataset, batch_size=512, shuffle=False)\n",
    "\n",
    "model = SimpleNetwork()\n",
    "\n",
    "optimizer = torch.optim.AdamW(model.parameters(), lr=0.001)\n",
    "criterion = torch.nn.BCEWithLogitsLoss()\n",
    "\n",
    "training(model, optimizer, criterion, train_dataloader, val_dataloader, 10)"
   ]
  },
  {
   "cell_type": "code",
   "execution_count": 19,
   "metadata": {},
   "outputs": [
    {
     "name": "stdout",
     "output_type": "stream",
     "text": [
      "tensor([[1.0634e-05, 1.0258e-05, 1.9013e-04, 5.8805e-06, 1.4959e-04, 1.8044e-04,\n",
      "         3.6646e-04, 1.6590e-05, 9.0268e-07, 1.9725e-04, 6.3482e-02, 1.6193e-03,\n",
      "         7.5242e-06, 6.7861e-04, 1.8010e-05, 6.7315e-03, 6.1281e-03, 5.8049e-02,\n",
      "         3.5786e-04, 1.0614e-04, 1.4006e-04, 1.4745e-05, 1.4580e-02, 3.3396e-05,\n",
      "         5.1725e-05, 7.4024e-06, 1.4748e-04, 5.4765e-06, 7.0496e-06, 4.0057e-04,\n",
      "         1.8596e-03, 1.1568e-02, 5.3106e-05, 9.5422e-02, 4.1390e-05, 8.5477e-05,\n",
      "         2.0739e-04, 1.3044e-03, 2.6656e-05, 3.4249e-04, 3.6442e-05, 5.5484e-04,\n",
      "         7.8637e-05, 2.3134e-04, 1.8367e-03, 1.8434e-04, 2.2175e-05, 1.0316e-05,\n",
      "         3.1426e-03, 7.0401e-06, 5.0942e-04, 1.1907e-03, 1.3823e-03, 1.3899e-04,\n",
      "         1.6465e-04, 7.1561e-04, 3.1723e-04, 8.0935e-04, 3.4670e-05, 4.2775e-06,\n",
      "         1.4803e-03, 4.0289e-02, 6.6162e-05, 9.4952e-05, 1.5338e-03, 1.3086e-02,\n",
      "         1.3491e-03, 1.0604e-03, 5.8041e-05, 2.8500e-05, 2.8337e-04, 3.9093e-05,\n",
      "         9.7599e-03, 2.5940e-02, 9.0279e-06, 1.5238e-03, 1.8285e-02, 2.5319e-04,\n",
      "         2.7880e-03, 6.7427e-04, 6.8055e-05, 2.9413e-03, 6.5991e-07, 6.0897e-03,\n",
      "         1.2728e-03, 3.1999e-04, 4.9656e-05, 4.4521e-06, 1.9431e-03, 2.4956e-04,\n",
      "         9.8820e-01, 1.3138e-04, 8.3222e-04, 7.4720e-05, 2.6657e-04, 1.9790e-04,\n",
      "         1.5840e-04, 4.9332e-04, 5.9075e-02, 5.6447e-01, 9.9911e-04, 1.0969e-05,\n",
      "         3.6438e-03, 1.4332e-04, 6.8037e-04]], grad_fn=<SigmoidBackward0>)\n"
     ]
    }
   ],
   "source": [
    "\n",
    "model.eval()\n",
    "y_hat = model(X_Val[0:1].to_sparse())\n",
    "print(torch.sigmoid(y_hat))\n",
    "\n"
   ]
  },
  {
   "cell_type": "code",
   "execution_count": 62,
   "metadata": {},
   "outputs": [
    {
     "name": "stdout",
     "output_type": "stream",
     "text": [
      "torch.Size([300, 105])\n",
      "torch.Size([300, 105])\n"
     ]
    },
    {
     "data": {
      "text/plain": [
       "tensor(0.1967)"
      ]
     },
     "execution_count": 62,
     "metadata": {},
     "output_type": "execute_result"
    }
   ],
   "source": [
    "evaluate(model, X_Val[0:300], y_Val[0:300])"
   ]
  },
  {
   "cell_type": "code",
   "execution_count": 82,
   "metadata": {},
   "outputs": [],
   "source": [
    "torch.save(model.state_dict(), f\"{git_root}/experiments/generating/model.pth\")"
   ]
  },
  {
   "cell_type": "code",
   "execution_count": null,
   "metadata": {},
   "outputs": [],
   "source": []
  }
 ],
 "metadata": {
  "kernelspec": {
   "display_name": ".venv",
   "language": "python",
   "name": "python3"
  },
  "language_info": {
   "codemirror_mode": {
    "name": "ipython",
    "version": 3
   },
   "file_extension": ".py",
   "mimetype": "text/x-python",
   "name": "python",
   "nbconvert_exporter": "python",
   "pygments_lexer": "ipython3",
   "version": "3.10.10"
  }
 },
 "nbformat": 4,
 "nbformat_minor": 2
}
